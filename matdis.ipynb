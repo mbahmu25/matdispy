{
 "cells": [
  {
   "cell_type": "code",
   "execution_count": 6,
   "metadata": {},
   "outputs": [
    {
     "name": "stdout",
     "output_type": "stream",
     "text": [
      "[[], ['dul'], ['boi'], ['boi', 'dul'], ['ani'], ['ani', 'dul'], ['ani', 'boi'], ['ani', 'boi', 'dul'], ['3'], ['3', 'dul'], ['3', 'boi'], ['3', 'boi', 'dul'], ['3', 'ani'], ['3', 'ani', 'dul'], ['3', 'ani', 'boi'], ['3', 'ani', 'boi', 'dul'], ['2'], ['2', 'dul'], ['2', 'boi'], ['2', 'boi', 'dul'], ['2', 'ani'], ['2', 'ani', 'dul'], ['2', 'ani', 'boi'], ['2', 'ani', 'boi', 'dul'], ['2', '3'], ['2', '3', 'dul'], ['2', '3', 'boi'], ['2', '3', 'boi', 'dul'], ['2', '3', 'ani'], ['2', '3', 'ani', 'dul'], ['2', '3', 'ani', 'boi'], ['2', '3', 'ani', 'boi', 'dul'], ['1'], ['1', 'dul'], ['1', 'boi'], ['1', 'boi', 'dul'], ['1', 'ani'], ['1', 'ani', 'dul'], ['1', 'ani', 'boi'], ['1', 'ani', 'boi', 'dul'], ['1', '3'], ['1', '3', 'dul'], ['1', '3', 'boi'], ['1', '3', 'boi', 'dul'], ['1', '3', 'ani'], ['1', '3', 'ani', 'dul'], ['1', '3', 'ani', 'boi'], ['1', '3', 'ani', 'boi', 'dul'], ['1', '2'], ['1', '2', 'dul'], ['1', '2', 'boi'], ['1', '2', 'boi', 'dul'], ['1', '2', 'ani'], ['1', '2', 'ani', 'dul'], ['1', '2', 'ani', 'boi'], ['1', '2', 'ani', 'boi', 'dul'], ['1', '2', '3'], ['1', '2', '3', 'dul'], ['1', '2', '3', 'boi'], ['1', '2', '3', 'boi', 'dul'], ['1', '2', '3', 'ani'], ['1', '2', '3', 'ani', 'dul'], ['1', '2', '3', 'ani', 'boi'], ['1', '2', '3', 'ani', 'boi', 'dul']]\n",
      "Total :  64\n"
     ]
    }
   ],
   "source": [
    "data = '1,2,3,ani,boi,dul'\n",
    "data = data.split(',')\n",
    "\n",
    "def comb(data):\n",
    "    temp = []\n",
    "    final = []\n",
    "    com = ''\n",
    "    for i in range(2**len(data)):\n",
    "        com = bin(i)[2:]\n",
    "        if len(bin(i)[2:]) != len(bin((2**len(data)-1))[2:]):\n",
    "            com = list('0'*(len(bin((2**len(data)-1))[2:])-len(bin(i)[2:])) + com)\n",
    "        com = list(com)\n",
    "        for j in range(len(com)):\n",
    "            if com[j] == '1':\n",
    "                temp.append(data[j])\n",
    "        final.append(temp)\n",
    "        temp = []\n",
    "        com = ''\n",
    "    return final\n",
    "final = comb(data)\n",
    "print(final)\n",
    "print(\"Total : \",len(final))\n",
    "\n",
    "\n",
    "    \n"
   ]
  },
  {
   "cell_type": "code",
   "execution_count": null,
   "metadata": {},
   "outputs": [],
   "source": [
    "import random\n",
    "#cari topology\n",
    "topo = []\n",
    "temptopo = []\n",
    "count = 0\n",
    "num = 0\n",
    "cu = 0\n",
    "ci = 0\n",
    "while True:\n",
    "    if count < 3:\n",
    "        temptopo = [[],final[-1]]\n",
    "    while True:\n",
    "        num = random.randrange(2,len(final))\n",
    "        if  final[num] not in temptopo:\n",
    "            temptopo.append(final[num])\n",
    "        if len(temptopo)==6:\n",
    "            break\n",
    "    \n",
    "    for i in comb(temptopo):\n",
    "        if len(i)==2 and (list(set(i[0]).union(i[1]))) in temptopo:\n",
    "            cu+=1\n",
    "    for i in comb(temptopo):\n",
    "        if len(i)==2 and (list(set(i[0]).intersection(i[1]))) in temptopo:\n",
    "            ci+=1\n",
    "\n",
    "    if cu == 15 and ci == 15:\n",
    "        topo.append(temptopo)\n",
    "        temptopo=[]\n",
    "        count+=1\n",
    "        cu=0\n",
    "        ci=0\n",
    "    else :\n",
    "        temptopo=[]\n",
    "        cu=0\n",
    "        ci=0\n",
    "    if count==6:\n",
    "        break\n",
    "for i in range(len(topo)):\n",
    "    print('t = ',topo[i])\n",
    "    print('')\n",
    "    print(\"Union\")\n",
    "    for j in comb(topo[i]):\n",
    "        if len(j)==2:\n",
    "            print(j[0],'U',j[1],'=',set(j[0]).union(j[1]))\n",
    "    print('')\n",
    "    print(\"Intersection\")\n",
    "    for k in comb(topo[i]):\n",
    "        if len(k)==2:\n",
    "            print(k[0],u'\\u2229',k[1],'=',set(k[0]).intersection(k[1]))\n",
    "    print('')\n",
    "    "
   ]
  },
  {
   "cell_type": "code",
   "execution_count": null,
   "metadata": {},
   "outputs": [],
   "source": [
    "himp = 1\n",
    "maks=[len(str(topo[0])),len(str(topo[1])),len(str(topo[2]))]\n",
    "print(maks)\n",
    "comsekitar = comb(topo[maks.index(max(maks))][1:])\n",
    "count = 0\n",
    "check = []\n",
    "print(\"Topologi : \",topo[maks.index(max(maks))])\n",
    "print(\"\")\n",
    "while True:\n",
    "    N = comsekitar[random.randrange(1,len(comsekitar))]\n",
    "    if  N not in check:\n",
    "        check.append(N)\n",
    "        count+=1\n",
    "        tempsup = []\n",
    "        finalset = []\n",
    "        if final[-1] not in N:\n",
    "            N.append(final[-1])\n",
    "        for i in range(len(N)):\n",
    "            tempsup.append([])\n",
    "        print(\"---------------------------------------------------------------------------\")\n",
    "        print(\"Himpunan yang memuat : \",N)\n",
    "        for i in range(len(N)):\n",
    "            for j in final:\n",
    "                if set(N[i]).intersection(j)==set(N[i]):\n",
    "                    tempsup[i].append(j)\n",
    "                    if j not in finalset:\n",
    "                        finalset.append(j)\n",
    "            print(\"Superset \",N[i],\" : \",str(tempsup[i])[1:-1])\n",
    "            print(\"\")\n",
    "        print(\"N(\",count,\") : \",finalset)\n",
    "        print(\"\")\n",
    "    if count==5:\n",
    "        break\n"
   ]
  }
 ],
 "metadata": {
  "kernelspec": {
   "display_name": "Python 3 (ipykernel)",
   "language": "python",
   "name": "python3"
  },
  "language_info": {
   "codemirror_mode": {
    "name": "ipython",
    "version": 3
   },
   "file_extension": ".py",
   "mimetype": "text/x-python",
   "name": "python",
   "nbconvert_exporter": "python",
   "pygments_lexer": "ipython3",
   "version": "3.10.2"
  },
  "vscode": {
   "interpreter": {
    "hash": "369f2c481f4da34e4445cda3fffd2e751bd1c4d706f27375911949ba6bb62e1c"
   }
  }
 },
 "nbformat": 4,
 "nbformat_minor": 4
}
